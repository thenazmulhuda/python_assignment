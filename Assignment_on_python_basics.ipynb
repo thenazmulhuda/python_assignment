{
  "cells": [
    {
      "cell_type": "markdown",
      "metadata": {
        "id": "view-in-github",
        "colab_type": "text"
      },
      "source": [
        "<a href=\"https://colab.research.google.com/github/thenazmulhuda/python_assignment/blob/main/Assignment_on_python_basics.ipynb\" target=\"_parent\"><img src=\"https://colab.research.google.com/assets/colab-badge.svg\" alt=\"Open In Colab\"/></a>"
      ]
    },
    {
      "cell_type": "markdown",
      "source": [
        "#Assignment on python basics#\n",
        "#Name: Nazmul Huda#\n",
        "#ID: 20229033#\n",
        "Batch-9th\n",
        ", Section-A"
      ],
      "metadata": {
        "id": "fq8arF4rCvlm"
      }
    },
    {
      "cell_type": "code",
      "source": [
        "import pandas as pd "
      ],
      "metadata": {
        "id": "VT9hOE5JC0_L"
      },
      "execution_count": null,
      "outputs": []
    },
    {
      "cell_type": "code",
      "source": [
        "import numpy as np \n"
      ],
      "metadata": {
        "id": "Zt3dQkax1qgv"
      },
      "execution_count": null,
      "outputs": []
    },
    {
      "cell_type": "markdown",
      "source": [
        "Problem-1: Write a Python program to count the number of characters (character frequency) inastring. Sample String : google.com \n",
        "Expected Result : {'o': 3, 'g': 2, '.': 1, 'e': 1, 'l': 1, 'm': 1, 'c': 1} \n",
        "\n"
      ],
      "metadata": {
        "id": "a3eWirDg1uff"
      }
    },
    {
      "cell_type": "code",
      "source": [
        "string = \"google.com\"\n",
        "\n",
        "# Creating an empty dictionary to store character frequency\n",
        "char_frequency = {}\n",
        "\n",
        "# Looping through each character in the string\n",
        "for char in string:\n",
        "\n",
        "    # If character is already in the dictionary, increase its count by 1\n",
        "    if char in char_frequency:\n",
        "        char_frequency[char] += 1\n",
        "\n",
        "    # If character is not in the dictionary, add it with a count of 1\n",
        "    else:\n",
        "        char_frequency[char] = 1\n",
        "\n",
        "# Printing the character frequency dictionary\n",
        "print(char_frequency)\n"
      ],
      "metadata": {
        "colab": {
          "base_uri": "https://localhost:8080/"
        },
        "id": "4qdM6EHA2J7H",
        "outputId": "fcfb80fd-7bbc-414f-b0a9-25921b54273a"
      },
      "execution_count": null,
      "outputs": [
        {
          "output_type": "stream",
          "name": "stdout",
          "text": [
            "{'g': 2, 'o': 3, 'l': 1, 'e': 1, '.': 1, 'c': 1, 'm': 1}\n"
          ]
        }
      ]
    },
    {
      "cell_type": "markdown",
      "source": [
        "Problem-2: Write a Python program to check if a given key already exists in a dictionary"
      ],
      "metadata": {
        "id": "cc_Yt3IU2oSy"
      }
    },
    {
      "cell_type": "code",
      "source": [
        "# Sample dictionary \n",
        "d = {'apple': 1, 'ball': 2, 'cat': 3} \n",
        "# Check if a key exists in the dictionary \n",
        "key = 'ball' \n",
        "if key in d: \n",
        "  print (f\"The key '{key}' exists in the dictionary.\") \n",
        "else: \n",
        "  print(f\"The key '{key}' does not exist in the dictionary.\") \n"
      ],
      "metadata": {
        "colab": {
          "base_uri": "https://localhost:8080/"
        },
        "id": "E8kIPAT423G4",
        "outputId": "bf3f2069-e82c-4e5d-db1f-888101dae625"
      },
      "execution_count": null,
      "outputs": [
        {
          "output_type": "stream",
          "name": "stdout",
          "text": [
            "The key 'ball' exists in the dictionary.\n"
          ]
        }
      ]
    },
    {
      "cell_type": "markdown",
      "source": [
        "Problem-3: Write a Python program that accepts a sequence of comma-separated numbers fromtheuser and generates a list and a tuple of those numbers. \n",
        "Sample data : 1, 5, 7, 23 \n",
        "Expected Output : \n",
        "List : ['1', ' 5', ' 7', ' 23'] \n",
        "Tuple : ('1', ' 5', ' 7', ' 23') \n"
      ],
      "metadata": {
        "id": "OqxnopVQ4gqA"
      }
    },
    {
      "cell_type": "code",
      "source": [
        "# Accept comma-separated numbers from user input \n",
        "num_sequence = input(\"Enter a sequence of comma-separated numbers: \") \n",
        "\n",
        "# Convert the sequence of numbers to a list and tuple \n",
        "num_list = num_sequence.split(',') \n",
        "num_tuple = tuple (num_list) \n",
        "# Print the list and tuple of numbers \n",
        "print(\"List: \", num_list) \n",
        "print(\"Tuple:\", num_tuple) \n"
      ],
      "metadata": {
        "colab": {
          "base_uri": "https://localhost:8080/"
        },
        "id": "HI904Sn94ofv",
        "outputId": "8eb0efec-8fa5-4b04-b85a-ddae0fccb9a6"
      },
      "execution_count": 1,
      "outputs": [
        {
          "output_type": "stream",
          "name": "stdout",
          "text": [
            "Enter a sequence of comma-separated numbers: 1, 5, 7, 23\n",
            "List:  ['1', ' 5', ' 7', ' 23']\n",
            "Tuple: ('1', ' 5', ' 7', ' 23')\n"
          ]
        }
      ]
    },
    {
      "cell_type": "markdown",
      "source": [
        "Problem-4: Write a Python program to calculate the number of days between two dates. Sample dates : (2014, 7, 2), (2014, 7, 11) \n",
        "Expected output : 9 days \n"
      ],
      "metadata": {
        "id": "FcM_A92Z5jSN"
      }
    },
    {
      "cell_type": "code",
      "source": [
        "from datetime import date \n",
        "# Define the two dates \n",
        "date1 = date(2014, 7, 2) \n",
        "date2 = date(2014, 7, 11) \n",
        "# Calculate the number of days between the two dates \n",
        "delta = date2 - date1 \n",
        "num_days = delta.days \n",
        "# Print the number of days between the two dates \n",
        "print(\"Number of days between\", date1, \"and\", date2, \"is:\", num_days) \n"
      ],
      "metadata": {
        "colab": {
          "base_uri": "https://localhost:8080/"
        },
        "id": "GyavdRhX5xFZ",
        "outputId": "4ed44a14-c331-4302-ecc4-3ff340b5ac05"
      },
      "execution_count": null,
      "outputs": [
        {
          "output_type": "stream",
          "name": "stdout",
          "text": [
            "Number of days between 2014-07-02 and 2014-07-11 is: 9\n"
          ]
        }
      ]
    },
    {
      "cell_type": "markdown",
      "source": [
        "Prpblem-5: Write a Python program to solve (x + y) * (x + y). Test Data : x = 4, y = 3 \n",
        "Expected Output : (4 + 3) ^ 2) = 49 \n"
      ],
      "metadata": {
        "id": "jNRaaB317UDN"
      }
    },
    {
      "cell_type": "code",
      "source": [
        "# Define the values of x and y \n",
        "x = 4 \n",
        "y = 3 \n",
        "# Calculate the result of (x + y) (x + y) \n",
        "result = (x + y)**2 \n",
        "# Print the result \n",
        "print(\"({} + {})^2 = {}\".format(x, y, result)) "
      ],
      "metadata": {
        "id": "r0-MolY77ay2",
        "outputId": "f0035182-9afa-4a1d-de44-c38609cf3d76",
        "colab": {
          "base_uri": "https://localhost:8080/"
        }
      },
      "execution_count": null,
      "outputs": [
        {
          "output_type": "stream",
          "name": "stdout",
          "text": [
            "(4 + 3)^2 = 49\n"
          ]
        }
      ]
    },
    {
      "cell_type": "markdown",
      "source": [
        "Proble-6: Write a Python program to compute the future value of a specified principal amount,rate of interest, and number of years. \n",
        "Test Data : amt = 10000, int = 3.5, years = 7 \n",
        "Expected Output : 12722.79 \n"
      ],
      "metadata": {
        "id": "EaKxG-1u8q1e"
      }
    },
    {
      "cell_type": "code",
      "source": [
        "amt = 10000 \n",
        "int_rate=3.5 \n",
        "years = 7 \n",
        "future_value = amt*(1 + int_rate/100)**years \n",
        "print(\"Future value: \", round (future_value, 2)) "
      ],
      "metadata": {
        "id": "RocHyQIl8xqD",
        "outputId": "b2a9314f-7947-48f6-df4f-1860c8525149",
        "colab": {
          "base_uri": "https://localhost:8080/"
        }
      },
      "execution_count": null,
      "outputs": [
        {
          "output_type": "stream",
          "name": "stdout",
          "text": [
            "Future value:  12722.79\n"
          ]
        }
      ]
    },
    {
      "cell_type": "markdown",
      "source": [
        "Problem-7: Write a Python program that removes duplicate elements from a given array of numberssothat each element appears only once and returns the new length of the array. \n",
        "Sample Input: [0,0,1,1,2,2,3,3,4,4,4] \n",
        "Sample Output: \n",
        "The list of unique numbers: [0,1,2,3,4] \n",
        "length of the unique list : 5 \n",
        "\n"
      ],
      "metadata": {
        "id": "BDJBjJpq9NeN"
      }
    },
    {
      "cell_type": "code",
      "source": [
        "def remove_duplicates(nums):\n",
        "    unique_nums = list(set(nums))\n",
        "    print(\"The list of unique numbers:\", unique_nums)\n",
        "    return len(unique_nums)\n",
        "\n",
        "my_nums = [0, 0, 1, 1, 2, 2, 3, 3, 4, 4, 4]\n",
        "new_length = remove_duplicates(my_nums)\n",
        "print(\"Length of the unique list:\", new_length)"
      ],
      "metadata": {
        "id": "qLwxjrOVAZml",
        "outputId": "108e69f1-a4c4-4f27-ac37-8c033588e3de",
        "colab": {
          "base_uri": "https://localhost:8080/"
        }
      },
      "execution_count": null,
      "outputs": [
        {
          "output_type": "stream",
          "name": "stdout",
          "text": [
            "The list of unique numbers: [0, 1, 2, 3, 4]\n",
            "Length of the unique list: 5\n"
          ]
        }
      ]
    },
    {
      "cell_type": "markdown",
      "source": [
        "Problem-8: Write a Python program to sort (ascending and descending) a dictionary by key value"
      ],
      "metadata": {
        "id": "vgJsK1fKACLV"
      }
    },
    {
      "cell_type": "code",
      "source": [
        "my_dict = {\"apple\": 5, \"banana\": 2, \"orange\": 3, \"grape\": 1}\n",
        "print(\"Original dictionary:\", my_dict) \n",
        "# sort the dictionary by key in ascending order\n",
        "sorted_dict_asc = dict(sorted(my_dict.items()))\n",
        "print(\"Sorted dictionary by key in ascending order:\", sorted_dict_asc)\n",
        "\n",
        "# sort the dictionary by key in descending order\n",
        "sorted_dict_desc = dict(sorted(my_dict.items(), reverse=True))\n",
        "print(\"Sorted dictionary by key in descending order:\", sorted_dict_desc)"
      ],
      "metadata": {
        "id": "_KPUBfCmAjAl",
        "outputId": "c9229c61-5129-48fc-cb75-e8a4490a4566",
        "colab": {
          "base_uri": "https://localhost:8080/"
        }
      },
      "execution_count": null,
      "outputs": [
        {
          "output_type": "stream",
          "name": "stdout",
          "text": [
            "Original dictionary: {'apple': 5, 'banana': 2, 'orange': 3, 'grape': 1}\n",
            "Sorted dictionary by key in ascending order: {'apple': 5, 'banana': 2, 'grape': 1, 'orange': 3}\n",
            "Sorted dictionary by key in descending order: {'orange': 3, 'grape': 1, 'banana': 2, 'apple': 5}\n"
          ]
        }
      ]
    },
    {
      "cell_type": "markdown",
      "source": [
        "Problem-9: Write a Python program to add key to a dictionary. Go to the editor Sample Dictionary : {0: 10, 1: 20} \n",
        "Expected Result : {0: 10, 1: 20, 2: 30} \n"
      ],
      "metadata": {
        "id": "FYyPaKQIBd9x"
      }
    },
    {
      "cell_type": "code",
      "source": [
        "my_dict = {0: 10, 1: 20}\n",
        "new_key = 2\n",
        "new_value = 30\n",
        "\n",
        "my_dict[new_key] = new_value\n",
        "\n",
        "print(\"Updated dictionary:\", my_dict)"
      ],
      "metadata": {
        "id": "TeGiVXRjBdGc",
        "outputId": "3b419bf9-db7c-4508-ced1-458eb90214af",
        "colab": {
          "base_uri": "https://localhost:8080/"
        }
      },
      "execution_count": null,
      "outputs": [
        {
          "output_type": "stream",
          "name": "stdout",
          "text": [
            "Updated dictionary: {0: 10, 1: 20, 2: 30}\n"
          ]
        }
      ]
    },
    {
      "cell_type": "markdown",
      "source": [
        "Problem=10: Write a Pandas program to create and display a DataFrame from a specified dictionarydatawhich has the index labels. \n",
        "Sample Python dictionary data and list labels: \n",
        "exam_data = {'name': ['Arif', 'Asir', 'Arik', 'Anis', 'Anil', 'Ashish', 'Anahi', 'Alia', 'Alvin', 'Asim'],'score': [12.5, 9, 16.5, np.nan, 9, 20, 14.5, np.nan, 8, 19], \n",
        "'attempts': [1, 3, 2, 3, 2, 3, 1, 1, 2, 1], \n",
        "'qualify': ['yes', 'no', 'yes', 'no', 'no', 'yes', 'yes', 'no', 'no', 'yes']} \n",
        "labels = ['a', 'b', 'c', 'd', 'e', 'f', 'g', 'h', 'i', 'j']\n"
      ],
      "metadata": {
        "id": "etSM61hNBxsd"
      }
    },
    {
      "cell_type": "code",
      "source": [
        "exam_data = {'name': ['Arif', 'Asir', 'Arik', 'Anis', 'Anil', 'Ashish', 'Anahi', 'Alia', 'Alvin', 'Asim'],\n",
        "             'score': [12.5, 9, 16.5, np.nan, 9, 20, 14.5, np.nan, 8, 19],\n",
        "             'attempts': [1, 3, 2, 3, 2, 3, 1, 1, 2, 1],\n",
        "             'qualify': ['yes', 'no', 'yes', 'no', 'no', 'yes', 'yes', 'no', 'no', 'yes']}\n",
        "\n",
        "labels = ['a', 'b', 'c', 'd', 'e', 'f', 'g', 'h', 'i', 'j']\n",
        "\n",
        "df = pd.DataFrame(exam_data, index=labels)\n",
        "\n",
        "print(df)"
      ],
      "metadata": {
        "id": "zd5YgH8kCQ32",
        "outputId": "eb17c1eb-7402-4e75-dff2-2a48c66b9657",
        "colab": {
          "base_uri": "https://localhost:8080/"
        }
      },
      "execution_count": null,
      "outputs": [
        {
          "output_type": "stream",
          "name": "stdout",
          "text": [
            "     name  score  attempts qualify\n",
            "a    Arif   12.5         1     yes\n",
            "b    Asir    9.0         3      no\n",
            "c    Arik   16.5         2     yes\n",
            "d    Anis    NaN         3      no\n",
            "e    Anil    9.0         2      no\n",
            "f  Ashish   20.0         3     yes\n",
            "g   Anahi   14.5         1     yes\n",
            "h    Alia    NaN         1      no\n",
            "i   Alvin    8.0         2      no\n",
            "j    Asim   19.0         1     yes\n"
          ]
        }
      ]
    }
  ],
  "metadata": {
    "colab": {
      "provenance": [],
      "include_colab_link": true
    },
    "kernelspec": {
      "display_name": "Python 3",
      "name": "python3"
    }
  },
  "nbformat": 4,
  "nbformat_minor": 0
}